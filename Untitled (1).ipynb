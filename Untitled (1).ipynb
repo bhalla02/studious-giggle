{
 "cells": [
  {
   "cell_type": "code",
   "execution_count": 7,
   "id": "e4093377-05cd-446c-bebb-8442befd0620",
   "metadata": {},
   "outputs": [],
   "source": [
    "#Q1\n",
    "class vehicle :\n",
    "    def __init__(self,name_of_vehicle,max_speed,avg_speed):\n",
    "        self.name_of_vehicle = name_of_vehicle\n",
    "        self.max_speed = max_speed\n",
    "        self.avg_speed = avg_speed\n",
    "    \n",
    "    def details(self):\n",
    "        return self.name_of_vehicle , self.max_speed , self.avg_speed\n",
    "    \n",
    "        \n",
    "    "
   ]
  },
  {
   "cell_type": "code",
   "execution_count": 5,
   "id": "90591290-3aa2-479f-94b5-c4f7144c59b4",
   "metadata": {},
   "outputs": [],
   "source": [
    "car1 = vehicle(\"mustang\" , 210, 150)\n"
   ]
  },
  {
   "cell_type": "code",
   "execution_count": 15,
   "id": "c12fe2c4-c80a-488b-8cf5-2675d6804e02",
   "metadata": {},
   "outputs": [
    {
     "data": {
      "text/plain": [
       "210"
      ]
     },
     "execution_count": 15,
     "metadata": {},
     "output_type": "execute_result"
    }
   ],
   "source": [
    "car1.max_speed\n"
   ]
  },
  {
   "cell_type": "code",
   "execution_count": 16,
   "id": "5aec9f07-1d32-48f4-8361-8d7161edef97",
   "metadata": {},
   "outputs": [],
   "source": [
    "#Q2\n",
    "class vehicle :\n",
    "    def __init__(self,name_of_vehicle,max_speed,avg_speed):\n",
    "        self.name_of_vehicle = name_of_vehicle\n",
    "        self.max_speed = max_speed\n",
    "        self.avg_speed = avg_speed\n",
    "    \n",
    "    def details(self):\n",
    "        return self.name_of_vehicle , self.max_speed , self.avg_speed\n",
    "    \n",
    "    \n",
    "class vehicle2(vehicle):\n",
    "    \n",
    "    def __init__(self,seating_capacity):\n",
    "        \n",
    "        self.seating_capacity = 4\n",
    "        \n",
    "        \n",
    "    def details2(self):\n",
    "        \n",
    "        return self.name_of_vehicle,self.seating_capacity \n",
    "    \n",
    "    \n",
    "\n"
   ]
  },
  {
   "cell_type": "code",
   "execution_count": 18,
   "id": "70e74824-b3a3-44a4-bf22-8cad631ea760",
   "metadata": {},
   "outputs": [],
   "source": [
    "car2 = vehicle2(\"mustang\",250,150)"
   ]
  },
  {
   "cell_type": "code",
   "execution_count": 48,
   "id": "d47bdbed-bdd2-4d79-9971-e95e55620d93",
   "metadata": {},
   "outputs": [
    {
     "data": {
      "text/plain": [
       "'mustang'"
      ]
     },
     "execution_count": 48,
     "metadata": {},
     "output_type": "execute_result"
    }
   ],
   "source": [
    "car2.name_of_vehicle"
   ]
  },
  {
   "cell_type": "code",
   "execution_count": 39,
   "id": "c5325940-c44a-4ea2-84f7-1bf69e3bc8cc",
   "metadata": {},
   "outputs": [],
   "source": [
    "#Q3\n",
    "\n",
    "''' In Multiple Inheritance a class can inherit attributes and methods from more than one parent class. \n",
    "This allows a subclass to inherit characteristics from multiple base classes.\n",
    "'''\n",
    "\n",
    "\n",
    "class Parent1:\n",
    "    def method1(self):\n",
    "        print(\"Method 1 from Parent 1\")\n",
    "\n",
    "class Parent2:\n",
    "    def method2(self):\n",
    "        print(\"Method 2 from Parent 2\")\n",
    "\n",
    "class Child(Parent1, Parent2):\n",
    "    def method3(self):\n",
    "        print(\"Method 3 from Child\")\n",
    "\n",
    "\n"
   ]
  },
  {
   "cell_type": "code",
   "execution_count": 42,
   "id": "084479a5-0efb-4b37-8ecc-912bc4e30a91",
   "metadata": {},
   "outputs": [],
   "source": [
    "child = Child()\n"
   ]
  },
  {
   "cell_type": "code",
   "execution_count": 44,
   "id": "b77c8b2e-cf66-4250-9771-6543ee458f41",
   "metadata": {},
   "outputs": [
    {
     "name": "stdout",
     "output_type": "stream",
     "text": [
      "Method 1 from Parent 1\n",
      "Method 2 from Parent 2\n",
      "Method 1 from Parent 1\n"
     ]
    }
   ],
   "source": [
    "child.method1()\n",
    "child.method2()\n",
    "child.method1()"
   ]
  },
  {
   "cell_type": "markdown",
   "id": "492d7d6b-60b1-4605-ba46-dd2dc5a48933",
   "metadata": {},
   "source": [
    "#Q4\n",
    "\n",
    "Getter: A getter is a method that retrieves the value of an attribute. It allows you to access the value of a private attribute (one that starts with an underscore) from outside the class.\n",
    "\n",
    "Setter: A setter is a method that sets the value of an attribute. It allows you to modify the value of a private attribute from outside the class and can include validation checks before setting the value."
   ]
  },
  {
   "cell_type": "code",
   "execution_count": 50,
   "id": "fa4eadd6-b4c1-496d-aafc-caafc426e76f",
   "metadata": {},
   "outputs": [],
   "source": [
    "#Q4 code\n",
    "\n",
    "class Person :\n",
    "    def __init__(self,name , age ):\n",
    "        self._name = name \n",
    "        self._age = age\n",
    "    \n",
    "    def get_name(self,name):\n",
    "        return self._name \n",
    "    \n",
    "    def set_name(self, new_name):\n",
    "        if len(new_name)>=0:\n",
    "            self._name = new_name\n",
    "        else :\n",
    "            print(\"Name cannot be empty\")\n",
    "            \n",
    "    def get_age(self):\n",
    "        return self._age\n",
    "    \n",
    "    \n",
    "    def set_age(self, new_age):\n",
    "        if new_age >= 0:\n",
    "            self._age = new_age\n",
    "        else :\n",
    "            print(\"Age cannot be empty\")\n"
   ]
  },
  {
   "cell_type": "code",
   "execution_count": 53,
   "id": "a688fd53-3937-4954-a4d8-656608dab917",
   "metadata": {},
   "outputs": [],
   "source": [
    "P1 = Person(\"rohan\" , 18)"
   ]
  },
  {
   "cell_type": "code",
   "execution_count": 69,
   "id": "af11da45-a12c-47b9-ba4c-f59ef5218ad9",
   "metadata": {},
   "outputs": [
    {
     "name": "stdout",
     "output_type": "stream",
     "text": [
      "Age cannot be empty\n"
     ]
    }
   ],
   "source": [
    "P1.set_age(-9)\n",
    "P1.set_name(\"sammy\")\n",
    "\n"
   ]
  },
  {
   "cell_type": "code",
   "execution_count": null,
   "id": "f701acb7-addb-4e6e-834c-95ff86fdb229",
   "metadata": {},
   "outputs": [],
   "source": [
    "#Q5\n",
    "\n",
    "'''\n",
    "Method overriding is a concept in object-oriented programming where a subclass provides a specific implementation for a method that is already defined in its parent class."
   ]
  }
 ],
 "metadata": {
  "kernelspec": {
   "display_name": "Python 3 (ipykernel)",
   "language": "python",
   "name": "python3"
  },
  "language_info": {
   "codemirror_mode": {
    "name": "ipython",
    "version": 3
   },
   "file_extension": ".py",
   "mimetype": "text/x-python",
   "name": "python",
   "nbconvert_exporter": "python",
   "pygments_lexer": "ipython3",
   "version": "3.10.8"
  }
 },
 "nbformat": 4,
 "nbformat_minor": 5
}
